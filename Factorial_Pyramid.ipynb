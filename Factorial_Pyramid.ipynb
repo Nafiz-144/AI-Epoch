{
 "cells": [
  {
   "cell_type": "code",
   "execution_count": 14,
   "metadata": {},
   "outputs": [
    {
     "name": "stdout",
     "output_type": "stream",
     "text": [
      "        1 \n",
      "       2 6 \n",
      "      24 120 720 \n",
      "     5040 40320 362880 \n",
      "    \n",
      "   \n",
      "  \n",
      " \n",
      "\n",
      "\n",
      "There is no 144\n"
     ]
    }
   ],
   "source": [
    "def factorial(n):\n",
    "    fact = 1\n",
    "    for i in range(1, n + 1):\n",
    "        fact *= i\n",
    "    return fact\n",
    "\n",
    "f_P = []\n",
    "for i in range(1, 10):\n",
    "    f_P.append(factorial(i))\n",
    "\n",
    "rows = len(f_P)\n",
    "index = 0\n",
    "\n",
    "for i in range(1, rows + 1):\n",
    "    print(\" \" * (rows - i), end=\"\")\n",
    "    for j in range(i):\n",
    "        if index < len(f_P):\n",
    "            print(f_P[index], end=\" \")\n",
    "            index += 1\n",
    "    print()\n",
    "\n",
    "if 144 in f_P:\n",
    "    print(\"\\nThere is 144\")\n",
    "else:\n",
    "    print(\"\\nThere is no 144\")\n"
   ]
  }
 ],
 "metadata": {
  "kernelspec": {
   "display_name": "Python 3",
   "language": "python",
   "name": "python3"
  },
  "language_info": {
   "codemirror_mode": {
    "name": "ipython",
    "version": 3
   },
   "file_extension": ".py",
   "mimetype": "text/x-python",
   "name": "python",
   "nbconvert_exporter": "python",
   "pygments_lexer": "ipython3",
   "version": "3.12.0"
  }
 },
 "nbformat": 4,
 "nbformat_minor": 2
}
